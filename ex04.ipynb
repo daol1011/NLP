{
 "cells": [
  {
   "cell_type": "markdown",
   "id": "79a3caf2-5b7b-4c21-a4bd-82296a3f89e1",
   "metadata": {},
   "source": [
    "## Natural Language Processing - Summer Term 2024\n",
    "### Hochschule Karlsruhe\n",
    "### Lecturer: Prof. Dr. Jannik Strötgen\n",
    "### Tutor: Paul Löhr"
   ]
  },
  {
   "cell_type": "markdown",
   "id": "ef64b269-6b17-4409-b907-50010c0cc1f8",
   "metadata": {},
   "source": [
    "# Exercise 04"
   ]
  },
  {
   "cell_type": "markdown",
   "id": "e87ea437-6493-4082-8e93-10e6a6dc42a3",
   "metadata": {},
   "source": [
    "- Leftmost Derivation\n",
    "- CKY Algorithm and Chomsky Normal Form\n",
    "- Shift-Reduce Parsing"
   ]
  },
  {
   "cell_type": "markdown",
   "id": "75102490-f8ec-4855-ad83-4a6162158df6",
   "metadata": {},
   "source": [
    "---"
   ]
  },
  {
   "cell_type": "markdown",
   "id": "83419e06-965f-4c2e-8af4-ab46b22082ad",
   "metadata": {
    "tags": []
   },
   "source": [
    "## Task 1 - Leftmost Derivation (pen and paper):"
   ]
  },
  {
   "cell_type": "markdown",
   "id": "dacc5eee-4940-4d59-b348-3c07894c3e43",
   "metadata": {},
   "source": [
    "## Data and Grammar\n",
    "\n",
    "Sentences:\n",
    "\n",
    " 1. The angry bear chased the frightened little squirrel.\n",
    " 2. The dog saw a man in the park.\n",
    "\n",
    "\n",
    "Grammar:\n",
    "\n",
    "- S -> NP VP\n",
    "- NP -> Det Nom | Det N | NP PP\n",
    "- Nom -> Adj Nom | Adj N\n",
    "- VP -> V Adj | V NP | V S\n",
    "- PP -> P NP\n",
    "- Det -> ‘the’ | ‘a’\n",
    "- N -> ‘bear’ | ‘squirrel’ | ‘dog’ | ‘park’ | ‘man’\n",
    "- Adj -> ‘angry’ | ‘frightened’ | ‘little’\n",
    "- V -> ‘saw’ | ‘chased’\n",
    "- P -> ‘in’"
   ]
  },
  {
   "cell_type": "markdown",
   "id": "b3eb47a8-fa85-49d5-b865-c20568cf9b84",
   "metadata": {},
   "source": [
    "Parse both sentences (1 and 2) with the Leftmost Derivation parser, using the grammar provided.\n",
    "\n",
    "1. Write down each step and emxplain what you are doing in this step."
   ]
  },
  {
   "cell_type": "markdown",
   "id": "00a747f2-f36a-4004-9e71-cc5f5b4ff6f0",
   "metadata": {},
   "source": [
    "\\# TEXT SUBMISSION ANSWER HERE (Double click to edit)\n",
    "\n",
    "\\# Feel free to upload a graph or image"
   ]
  },
  {
   "cell_type": "markdown",
   "id": "7a915f04-65c2-4b22-bb91-63230f961777",
   "metadata": {},
   "source": [
    "2. Discuss the pros and cons of this approach."
   ]
  },
  {
   "cell_type": "markdown",
   "id": "e3f12b01-aebd-47d2-8dcd-1d7572f16994",
   "metadata": {},
   "source": [
    "\\# TEXT SUBMISSION ANSWER HERE (Double click to edit)"
   ]
  },
  {
   "cell_type": "markdown",
   "id": "5624e353-90c6-45ac-9a3c-1c6868b50877",
   "metadata": {},
   "source": [
    "---"
   ]
  },
  {
   "cell_type": "markdown",
   "id": "a4c674b6-b855-4188-b7d5-8f85ab2bacf0",
   "metadata": {},
   "source": [
    "## Task 2 - CKY Algorithm:"
   ]
  },
  {
   "cell_type": "markdown",
   "id": "450b3c85-077d-4d83-96f1-add9db8a2c44",
   "metadata": {
    "tags": []
   },
   "source": [
    "### Part 1: Theory\n",
    "\n",
    "Why is bottom-up parsing inefficient? \n",
    "How does CKY algorithm overcome this issue?"
   ]
  },
  {
   "cell_type": "markdown",
   "id": "4635bf5a-b112-46ea-8f5e-d05c57bb30af",
   "metadata": {},
   "source": [
    "\\# TEXT SUBMISSION ANSWER HERE (Double click to edit)"
   ]
  },
  {
   "cell_type": "markdown",
   "id": "f422a995-6384-4ae3-aa68-42d1926fac49",
   "metadata": {},
   "source": [
    "### Part 2: Chomsky Normal Form (pen and paper)\n",
    "\n",
    "**(1)** Why do we need to transform the grammar to Chomsky Normal Form \n",
    "before applying the CKY algorithm?"
   ]
  },
  {
   "cell_type": "markdown",
   "id": "6d5c837b-0c68-4658-b979-6977a4c2da12",
   "metadata": {},
   "source": [
    "\\# TEXT SUBMISSION ANSWER HERE (Double click to edit)"
   ]
  },
  {
   "cell_type": "markdown",
   "id": "0d6da90e-9097-434b-9204-1c33ad9d59c0",
   "metadata": {},
   "source": [
    "**(2)** Transform the given example to Chomsky Normal Form.\n",
    "\n",
    "- S -> NP VP\n",
    "- NP -> Noun\n",
    "- NP -> Noun PP\n",
    "- VP -> Verb NP\n",
    "- VP -> Verb NP PP\n",
    "- PP -> Prep Adj\n",
    "- Noun -> ‘John‘ | ‘Mary‘\n",
    "- Verb -> ‘led‘\n",
    "- Prep -> ‘with‘\n",
    "- Adj -> ‘care‘"
   ]
  },
  {
   "cell_type": "markdown",
   "id": "0a0d6fb5-5c3a-4f7f-a243-f015ef68e28f",
   "metadata": {},
   "source": [
    "Grammar in CNF:\n",
    "\n",
    "\n",
    "\\# TEXT SUBMISSION ANSWER HERE (Double click to edit)"
   ]
  },
  {
   "cell_type": "markdown",
   "id": "fb4ff1cc-67ab-468d-a1db-b5b4cb806db0",
   "metadata": {},
   "source": [
    "---"
   ]
  },
  {
   "cell_type": "markdown",
   "id": "5d529a67-c3e6-4ca1-92af-ae909f92fee7",
   "metadata": {},
   "source": [
    "## Task 3 - CYK algorithm (pen and paper):"
   ]
  },
  {
   "cell_type": "markdown",
   "id": "a7982272-3397-46f3-8ac7-c1331ef62edb",
   "metadata": {},
   "source": [
    "Parse the first sentence from Task 1, this time using the CYK algorithm:\n",
    "    \n",
    "    The angry bear chased the frightened little squirrel.\n",
    "    \n",
    "Again, use the initial grammar from Task 1 as a reference:\n",
    "\n",
    "Grammar:\n",
    "\n",
    "- S -> NP VP\n",
    "- NP -> Det Nom | Det N | NP PP\n",
    "- Nom -> Adj Nom | Adj N\n",
    "- VP -> V Adj | V NP | V S\n",
    "- PP -> P NP\n",
    "- Det -> ‘the’ | ‘a’\n",
    "- N -> ‘bear’ | ‘squirrel’ | ‘dog’ | ‘park’ | ‘man’\n",
    "- Adj -> ‘angry’ | ‘frightened’ | ‘little’\n",
    "- V -> ‘saw’ | ‘chased’\n",
    "- P -> ‘in’"
   ]
  },
  {
   "cell_type": "markdown",
   "id": "9166cc52-2ca4-4aef-841c-9c026b84d3ad",
   "metadata": {},
   "source": [
    "#### Sentence 1\n",
    "\n",
    "The angry bear chased the frightened little squirrel\n",
    "\n",
    "```\n",
    "------------------------------------------------------------------\n",
    "The |  -   |  -  |  -   | -   |    -     |   -   |    -    |  -  |\n",
    "    --------------------------------------------------------------\n",
    "     angry | -   |  -   |  -  |    -     |   -   |    -    |  -  |\n",
    "           -------------------------------------------------------\n",
    "            bear |  -   |  -  |    -     |   -   |    -    |  -  |\n",
    "                 -------------------------------------------------\n",
    "                 chased |  -  |    -     |   -   |    -    |  -  |\n",
    "                        ------------------------------------------\n",
    "                         the  |    -     |   -   |    -    |  -  |\n",
    "                            --------------------------------------\n",
    "                              frightened |   -   |    -    |  -  |\n",
    "                                         -------------------------\n",
    "                                          little |    -    |  -  |\n",
    "                                                  ----------------\n",
    "                                                  squirrel |  -  |\n",
    "                                                            ------\n",
    "```"
   ]
  },
  {
   "cell_type": "markdown",
   "id": "78c26bc0-0627-4bb2-ae64-39634d97c028",
   "metadata": {},
   "source": [
    "---"
   ]
  },
  {
   "cell_type": "markdown",
   "id": "6b963660",
   "metadata": {},
   "source": [
    "## Task 4 - Shift-Recude Parser\n"
   ]
  },
  {
   "cell_type": "markdown",
   "id": "31484c61",
   "metadata": {},
   "source": [
    "### Part 1\n",
    "\n",
    "Describe how the Shift-Reduce Parser works."
   ]
  },
  {
   "cell_type": "markdown",
   "id": "48a4cc3f",
   "metadata": {},
   "source": [
    "\\# TEXT SUBMISSION ANSWER HERE (Double click to edit)"
   ]
  },
  {
   "cell_type": "markdown",
   "id": "23a39503",
   "metadata": {},
   "source": [
    "### Part 2\n",
    "\n",
    "Implement a Shift-Reduce Parser using NLTK (Natural Language Toolkit) to parse the given English sentence."
   ]
  },
  {
   "cell_type": "code",
   "execution_count": null,
   "id": "540fef74",
   "metadata": {},
   "outputs": [],
   "source": [
    "import nltk\n",
    "\n",
    "# Sentence to parse\n",
    "sentence = \"the angry bear chased the frightened little squirrel\".split()\n",
    "\n",
    "# Define the grammar\n",
    "grammar = nltk.CFG.fromstring(\"\"\"\n",
    "        S -> NP VP\n",
    "        NP -> Det Nom | Det N | NP PP\n",
    "        Nom -> Adj Nom | Adj N\n",
    "        VP -> V Adj | V NP | V S\n",
    "        PP -> P NP\n",
    "        Det -> 'the' | 'a'\n",
    "        N -> 'bear' | 'squirrel' \n",
    "        Adj -> 'angry' | 'frightened' | 'little'\n",
    "        V -> 'saw' | 'chased'\n",
    "    \"\"\")\n",
    "\n",
    "# Shift-Reduce Parsing with NLTK\n",
    "# Create a Shift-Reduce parser with the custom grammar\n",
    "# Parse the sentence and output the parse trees\n",
    "    \n",
    "# CODE SUBMISSION ANSWER HERE    \n",
    "\n",
    "\n"
   ]
  },
  {
   "cell_type": "markdown",
   "id": "48e482fa",
   "metadata": {},
   "source": [
    "---"
   ]
  },
  {
   "cell_type": "markdown",
   "id": "9653c77e-ca28-4ee5-8c5f-cca95cbc5ae0",
   "metadata": {},
   "source": [
    "#### Submitting your results:\n",
    "\n",
    "To submit your results, please:\n",
    "\n",
    "- save this file, i.e., `ex??_assignment.ipynb`.\n",
    "- if you reference any external files (e.g., images), please create a zip or rar archieve and put the notebook files and all referenced files in there."
   ]
  },
  {
   "cell_type": "markdown",
   "id": "1fd431e5-dc4b-4a35-8173-bb11b9cfccdc",
   "metadata": {},
   "source": [
    "**Remarks:**\n",
    "    \n",
    "- Do not copy any code from the Internet. In case you want to use publicly available code, please, add the reference to the respective code snippet.\n",
    "- Check your code compiles and executes, even after you have restarted the Kernel.\n",
    "- Submit your written solutions and the coding exercises within the provided spaces and not otherwise.\n",
    "- Write the names of your partner and your name in the top section."
   ]
  }
 ],
 "metadata": {
  "kernelspec": {
   "display_name": "Python 3 (ipykernel)",
   "language": "python",
   "name": "python3"
  },
  "language_info": {
   "codemirror_mode": {
    "name": "ipython",
    "version": 3
   },
   "file_extension": ".py",
   "mimetype": "text/x-python",
   "name": "python",
   "nbconvert_exporter": "python",
   "pygments_lexer": "ipython3",
   "version": "3.11.8"
  }
 },
 "nbformat": 4,
 "nbformat_minor": 5
}
