{
 "cells": [
  {
   "cell_type": "markdown",
   "id": "79a3caf2-5b7b-4c21-a4bd-82296a3f89e1",
   "metadata": {},
   "source": [
    "## Natural Language Processing - Summer Term 2024\n",
    "### Hochschule Karlsruhe\n",
    "### Lecturer: Prof. Dr. Jannik Strötgen\n",
    "### Tutor: Paul Löhr"
   ]
  },
  {
   "cell_type": "markdown",
   "id": "ef64b269-6b17-4409-b907-50010c0cc1f8",
   "metadata": {},
   "source": [
    "# Exercise 05"
   ]
  },
  {
   "cell_type": "markdown",
   "id": "e87ea437-6493-4082-8e93-10e6a6dc42a3",
   "metadata": {},
   "source": [
    "- NLP Recap\n",
    "- Entity Recognition"
   ]
  },
  {
   "cell_type": "markdown",
   "id": "75102490-f8ec-4855-ad83-4a6162158df6",
   "metadata": {},
   "source": [
    "---"
   ]
  },
  {
   "cell_type": "markdown",
   "id": "83419e06-965f-4c2e-8af4-ab46b22082ad",
   "metadata": {
    "tags": []
   },
   "source": [
    "## Task 1 - NLP Recap:"
   ]
  },
  {
   "cell_type": "markdown",
   "id": "dacc5eee-4940-4d59-b348-3c07894c3e43",
   "metadata": {
    "jupyter": {
     "source_hidden": true
    },
    "tags": []
   },
   "source": [
    "## Q & A\n",
    "\n",
    "Give answers to the following question. If you like, you can treat it as exam preparation, e.g., first try to solve the question without help of the slides ;) But you are obviously allowed to use the slides at any time\n"
   ]
  },
  {
   "cell_type": "markdown",
   "id": "1a23d949-adfa-4661-92d4-45a2c809dabe",
   "metadata": {},
   "source": [
    "(1) Name three reasons why natural language processing (NLP) is challenging"
   ]
  },
  {
   "cell_type": "markdown",
   "id": "e3f12b01-aebd-47d2-8dcd-1d7572f16994",
   "metadata": {},
   "source": [
    "<font color='ff000000'>\\# TEXT SUBMISSION ANSWER HERE (Double click to edit)</font>\n",
    "\n",
    "- Because of ambiguity in the meaning of certain words\n",
    "- The need to deal with words that carry irrelevant or little to no information like stop words and certain symbols etc\n",
    "- "
   ]
  },
  {
   "cell_type": "markdown",
   "id": "29973e60-6435-4c53-b747-98def175474d",
   "metadata": {},
   "source": [
    "---"
   ]
  },
  {
   "cell_type": "markdown",
   "id": "e5293e25-64b5-4734-b327-4e52eaeb9a03",
   "metadata": {},
   "source": [
    "(2) What is tokenization?"
   ]
  },
  {
   "cell_type": "markdown",
   "id": "284270d5-050f-472d-978d-016332844392",
   "metadata": {},
   "source": [
    "<font color='ff000000'>\\# TEXT SUBMISSION ANSWER HERE (Double click to edit)</font>\n",
    "\n",
    "- Tokenization is the process of breaking down a text into its individual words and assigning them a token\n",
    "- "
   ]
  },
  {
   "cell_type": "markdown",
   "id": "e404eed0-0a56-44e5-b84e-f4d440ed8103",
   "metadata": {},
   "source": [
    "---"
   ]
  },
  {
   "cell_type": "markdown",
   "id": "96e0fa79-7297-4bea-882e-b53c6febd87b",
   "metadata": {},
   "source": [
    "(3) What is a word stem? Give the stem of the word \"undoes\""
   ]
  },
  {
   "cell_type": "markdown",
   "id": "65d1146e-49e2-4a17-8861-21ff91e38441",
   "metadata": {},
   "source": [
    "<font color='ff000000'>\\# TEXT SUBMISSION ANSWER HERE (Double click to edit)</font>\n",
    "- word stem is the truncated part of a word which carries the words meaning and excludes the suffix\n",
    "\n",
    "- stem is undo "
   ]
  },
  {
   "cell_type": "markdown",
   "id": "8bca9d3f-0250-4476-9da7-f3a87644b7c2",
   "metadata": {},
   "source": [
    "---"
   ]
  },
  {
   "cell_type": "markdown",
   "id": "0a91ff85-98e0-4438-b64d-3837d007125b",
   "metadata": {},
   "source": [
    "(4) What is a word root? Give the root of the word \"undoes\""
   ]
  },
  {
   "cell_type": "markdown",
   "id": "bd241a4f-9d0c-40ca-8671-92c79fd07724",
   "metadata": {},
   "source": [
    "<font color='ff000000'>\\# TEXT SUBMISSION ANSWER HERE (Double click to edit)</font>\n",
    "\n",
    "- foundational component of a word from which other words are formed\n",
    "- root is doing\n"
   ]
  },
  {
   "cell_type": "markdown",
   "id": "7bb2676d-46ef-4fa1-9cc9-8463893c5f4e",
   "metadata": {},
   "source": [
    "---"
   ]
  },
  {
   "cell_type": "markdown",
   "id": "6388d52f-8c70-4dbd-b14a-1071d4844530",
   "metadata": {
    "tags": []
   },
   "source": [
    "(5) Why should we typically extract word stems/lemmas before preceding with text analysis?"
   ]
  },
  {
   "cell_type": "markdown",
   "id": "9e76baff-9015-4d87-a4bd-f6102f9ade76",
   "metadata": {},
   "source": [
    "<font color='ff000000'>\\# TEXT SUBMISSION ANSWER HERE (Double click to edit)</font>\n",
    "\n",
    "- reduces processing time and resources\n",
    "- reduces size\n",
    "- removes redundant information\n",
    "- removes parts that carry very little information"
   ]
  },
  {
   "cell_type": "markdown",
   "id": "ea83f614-0a02-44f2-aa50-c7736415c2da",
   "metadata": {},
   "source": [
    "---"
   ]
  },
  {
   "cell_type": "markdown",
   "id": "039984ea-d45c-4e6f-80b6-30db3fc0a974",
   "metadata": {},
   "source": [
    "(6) What are stop-words? Why it makes sense to remove stop-words before preceding with text analysis?"
   ]
  },
  {
   "cell_type": "markdown",
   "id": "4e5f15e2-b5a7-4e48-af13-7894ad3292a4",
   "metadata": {},
   "source": [
    "<font color='ff000000'>\\# TEXT SUBMISSION ANSWER HERE (Double click to edit)</font>\n",
    "- Stop words are things like 'the'\n",
    "- it makes sense to remove them because they carry little no relevant information"
   ]
  },
  {
   "cell_type": "markdown",
   "id": "07e254c1-de5d-43ce-bff4-2ef6441d7a96",
   "metadata": {},
   "source": [
    "---"
   ]
  },
  {
   "cell_type": "markdown",
   "id": "527ffeae-89e5-4e94-96f0-9cdcbaaea9b1",
   "metadata": {},
   "source": [
    "(7) If you had access to frequency statistics for a language, how could you create a list of stop words?"
   ]
  },
  {
   "cell_type": "markdown",
   "id": "3c90b0bc-3c3b-4c4e-a0be-4e381664b378",
   "metadata": {},
   "source": [
    "<font color='ff000000'>\\# TEXT SUBMISSION ANSWER HERE (Double click to edit)</font>\n"
   ]
  },
  {
   "cell_type": "markdown",
   "id": "21cc843d-f19d-4d27-a477-09c0579ac591",
   "metadata": {},
   "source": [
    "---"
   ]
  },
  {
   "cell_type": "markdown",
   "id": "d477f762-b30d-4577-a108-e9a147dce512",
   "metadata": {},
   "source": [
    "(8) Name a use-case in which we should NOT remove stop-words prior to text analysis."
   ]
  },
  {
   "cell_type": "markdown",
   "id": "c7408324-b69e-4c2e-bc61-eaa5bafa746d",
   "metadata": {},
   "source": [
    "<font color='ff000000'>\\# TEXT SUBMISSION ANSWER HERE (Double click to edit)</font>"
   ]
  },
  {
   "cell_type": "markdown",
   "id": "cfd41039-d642-4c06-9fca-b90cb6a103e5",
   "metadata": {},
   "source": [
    "---"
   ]
  },
  {
   "cell_type": "markdown",
   "id": "d434b56d-5a8d-4460-9538-3ca7ad04b040",
   "metadata": {},
   "source": [
    "(9) What is part-of-speech (POS) tagging? Why is it useful?"
   ]
  },
  {
   "cell_type": "markdown",
   "id": "13d01947-0ff5-4b35-92d1-377f5d769605",
   "metadata": {},
   "source": [
    "<font color='ff000000'>\\# TEXT SUBMISSION ANSWER HERE (Double click to edit)</font>"
   ]
  },
  {
   "cell_type": "markdown",
   "id": "2442623a-c731-45dd-9371-02de018c16e2",
   "metadata": {},
   "source": [
    "---"
   ]
  },
  {
   "cell_type": "markdown",
   "id": "aaf59b70-e18e-4368-b49d-2cd861dcc619",
   "metadata": {},
   "source": [
    "(10) Explain how n-gram POS tagging works. What is the limitation of this method?"
   ]
  },
  {
   "cell_type": "markdown",
   "id": "0c013176-2dce-444d-8143-6ba800e06475",
   "metadata": {},
   "source": [
    "<font color='ff000000'>\\# TEXT SUBMISSION ANSWER HERE (Double click to edit)</font>"
   ]
  },
  {
   "cell_type": "markdown",
   "id": "10e8f9c3-2523-4b51-a138-cafb85c9f31d",
   "metadata": {},
   "source": [
    "---"
   ]
  },
  {
   "cell_type": "markdown",
   "id": "5764bfa6-7a98-4bbf-b9b2-f0b1e0673635",
   "metadata": {},
   "source": [
    "(11) What is parsing? Which two main types of parsing exist?"
   ]
  },
  {
   "cell_type": "markdown",
   "id": "674c0ce2-5f48-4d7d-b0ac-74bbd3b490de",
   "metadata": {},
   "source": [
    "<font color='ff000000'>\\# TEXT SUBMISSION ANSWER HERE (Double click to edit)</font>"
   ]
  },
  {
   "cell_type": "markdown",
   "id": "4184dcd9-a022-427e-ba97-80801c34a512",
   "metadata": {},
   "source": [
    "---"
   ]
  },
  {
   "cell_type": "markdown",
   "id": "e00630f3-e8e2-4f52-b182-a278e1c59824",
   "metadata": {},
   "source": [
    "(12) What is the difference between a context-free and a context-sensitive language? What is the difference between a context-free and a regular language?"
   ]
  },
  {
   "cell_type": "markdown",
   "id": "e99cba38-ca36-49a9-9d68-936cd8b5abc3",
   "metadata": {},
   "source": [
    "<font color='ff000000'>\\# TEXT SUBMISSION ANSWER HERE (Double click to edit)</font>"
   ]
  },
  {
   "cell_type": "markdown",
   "id": "239765a1-332f-4076-8cc6-e50d1b924a87",
   "metadata": {},
   "source": [
    "---"
   ]
  },
  {
   "cell_type": "markdown",
   "id": "fe97a9d2-cf4d-4f9b-abad-f90fa7862a94",
   "metadata": {},
   "source": [
    "(13) Give an equivalent grammar in Chomsky Normal form for the Grammar G=(N,T,P,S) with N={S,A,B,C}, T={a,b,c}, P={S->ABC, A->a, B->b, C->c}"
   ]
  },
  {
   "cell_type": "markdown",
   "id": "f0178a8c-fd3b-4f3d-b4e3-7e59afa54d6a",
   "metadata": {},
   "source": [
    "<font color='ff000000'>\\# TEXT SUBMISSION ANSWER HERE (Double click to edit)</font>"
   ]
  },
  {
   "cell_type": "markdown",
   "id": "f282280c-b3fc-429e-80a7-db9eb79dd9bc",
   "metadata": {},
   "source": [
    "---"
   ]
  },
  {
   "cell_type": "markdown",
   "id": "c5eb0210-866e-4ce7-85c8-b69f4d08af61",
   "metadata": {},
   "source": [
    "(14) Explain how shift-reduce parsing works."
   ]
  },
  {
   "cell_type": "markdown",
   "id": "f9aefc47-64aa-4d8e-af3f-0a5b3694d9d7",
   "metadata": {},
   "source": [
    "<font color='ff000000'>\\# TEXT SUBMISSION ANSWER HERE (Double click to edit)</font>"
   ]
  },
  {
   "cell_type": "markdown",
   "id": "7acc8326-c3cf-40e5-ae7f-7e2be18cd961",
   "metadata": {},
   "source": [
    "---"
   ]
  },
  {
   "cell_type": "markdown",
   "id": "153e9ca5-d3d1-47d4-a305-51569664e56a",
   "metadata": {},
   "source": [
    "(15) What is the grammar ambiguity problem?"
   ]
  },
  {
   "cell_type": "markdown",
   "id": "8a94da6a-0175-436c-a7da-3495abe4cdbb",
   "metadata": {},
   "source": [
    "<font color='ff000000'>\\# TEXT SUBMISSION ANSWER HERE (Double click to edit)</font>"
   ]
  },
  {
   "cell_type": "markdown",
   "id": "5624e353-90c6-45ac-9a3c-1c6868b50877",
   "metadata": {},
   "source": [
    "---"
   ]
  },
  {
   "cell_type": "markdown",
   "id": "a4c674b6-b855-4188-b7d5-8f85ab2bacf0",
   "metadata": {},
   "source": [
    "## Task 2 - Named Entity Recognition:"
   ]
  },
  {
   "cell_type": "markdown",
   "id": "450b3c85-077d-4d83-96f1-add9db8a2c44",
   "metadata": {
    "tags": []
   },
   "source": [
    "### Part 1: Automated Annotations\n",
    "\n",
    "Use Spacy to annotate entities in the debates dataset (available as part of the JSON in the data directory). [Depending on your computer, the extraction may take some time. Therefore, you are allowed to restrict the size of the text, e.g. to the first 250 sentences. Feel free to use a larger share of data to get better insights.]\n",
    "\n",
    "Tip: Use the en_core_web_sm corpus\n",
    "\n",
    "Display the results in readable form, e.g. show the tagged entities for a reasonably sized part of the data, idealy alongside the original text."
   ]
  },
  {
   "cell_type": "code",
   "execution_count": 4,
   "id": "bba068a3-4ea1-42bd-a6de-ea16c586bf45",
   "metadata": {},
   "outputs": [
    {
     "name": "stdout",
     "output_type": "stream",
     "text": [
      "hello\n"
     ]
    }
   ],
   "source": [
    "# Tip for Spacy: In order to load a dataset, you might need to download the dataset via command line. \n",
    "#Inside of a notebook, you can run commands with a !-mark\n",
    "\n",
    "#Similar to: !python ...\n",
    "!python -m spacy "
   ]
  },
  {
   "cell_type": "code",
   "execution_count": null,
   "id": "5f0ffcab-e9c8-4957-9723-14e283a16907",
   "metadata": {},
   "outputs": [],
   "source": [
    "# read debates\n",
    "import json\n",
    "with open('data/texts.json', 'r') as infile:\n",
    "    data = json.load(infile)\n",
    "\n",
    "content_debates = data['debates']"
   ]
  },
  {
   "cell_type": "code",
   "execution_count": null,
   "id": "d7c112b6-a2ed-4296-b558-9b0cf93f06f8",
   "metadata": {},
   "outputs": [],
   "source": [
    "# Your Code Submission goes here"
   ]
  },
  {
   "cell_type": "markdown",
   "id": "f422a995-6384-4ae3-aa68-42d1926fac49",
   "metadata": {},
   "source": [
    "### Part 2: Analysis\n",
    "\n",
    "In real-word use cases, NER can be difficult. Analyze the following challenging examples and identify all cases in which the automated NER failed. For the tagging, you can use the method from part 1."
   ]
  },
  {
   "cell_type": "code",
   "execution_count": 5,
   "id": "0a8b065a-bf5a-42bb-934b-769fe4f3f477",
   "metadata": {},
   "outputs": [],
   "source": [
    "# read debates\n",
    "import json\n",
    "with open('data/hard_data.json', 'r') as infile:\n",
    "    data = json.load(infile)\n",
    "\n",
    "test_sentences = [s[\"sentence\"] for s in data['test_sentences']]"
   ]
  },
  {
   "cell_type": "markdown",
   "id": "a2a9ff0a-6a7b-44e8-a52d-ea3d060369dc",
   "metadata": {},
   "source": [
    "Write the failure cases down here, then try to classify them into types of errors that the model makes. Discuss the results.\n",
    "You can use a mixture of markdown and code if it suits your analysis."
   ]
  },
  {
   "cell_type": "code",
   "execution_count": null,
   "id": "a774e516-db3a-42c0-9af3-94cfc112e8ca",
   "metadata": {},
   "outputs": [],
   "source": [
    "\n",
    "# Your Code Submission goes here"
   ]
  },
  {
   "cell_type": "markdown",
   "id": "6d5c837b-0c68-4658-b979-6977a4c2da12",
   "metadata": {},
   "source": [
    "<font color='ff000000'>\\# TEXT SUBMISSION ANSWER HERE (Double click to edit) </font>"
   ]
  },
  {
   "cell_type": "markdown",
   "id": "fb4ff1cc-67ab-468d-a1db-b5b4cb806db0",
   "metadata": {},
   "source": [
    "---"
   ]
  },
  {
   "cell_type": "markdown",
   "id": "9653c77e-ca28-4ee5-8c5f-cca95cbc5ae0",
   "metadata": {},
   "source": [
    "#### Submitting your results:\n",
    "\n",
    "To submit your results, please:\n",
    "\n",
    "- save this file, i.e., `ex??_assignment.ipynb`.\n",
    "- if you reference any external files (e.g., images), please create a zip or rar archieve and put the notebook files and all referenced files in there."
   ]
  },
  {
   "cell_type": "markdown",
   "id": "1fd431e5-dc4b-4a35-8173-bb11b9cfccdc",
   "metadata": {},
   "source": [
    "**Remarks:**\n",
    "    \n",
    "- Do not copy any code from the Internet. In case you want to use publicly available code, please, add the reference to the respective code snippet.\n",
    "- Check your code compiles and executes, even after you have restarted the Kernel.\n",
    "- Submit your written solutions and the coding exercises within the provided spaces and not otherwise.\n",
    "- Write the names of your partner and your name in the top section."
   ]
  }
 ],
 "metadata": {
  "kernelspec": {
   "display_name": "Python 3 (ipykernel)",
   "language": "python",
   "name": "python3"
  },
  "language_info": {
   "codemirror_mode": {
    "name": "ipython",
    "version": 3
   },
   "file_extension": ".py",
   "mimetype": "text/x-python",
   "name": "python",
   "nbconvert_exporter": "python",
   "pygments_lexer": "ipython3",
   "version": "3.9.12"
  }
 },
 "nbformat": 4,
 "nbformat_minor": 5
}
