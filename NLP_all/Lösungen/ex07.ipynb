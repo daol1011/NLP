{
 "cells": [
  {
   "cell_type": "markdown",
   "metadata": {},
   "source": [
    "## Natural Language Processing - Summer Term 2024\n",
    "### Hochschule Karlsruhe\n",
    "### Lecturer: Prof. Dr. Jannik Strötgen\n",
    "### Tutor: Paul Löhr"
   ]
  },
  {
   "cell_type": "markdown",
   "metadata": {},
   "source": [
    "# Exercise 07\n",
    "### You will learn about:\n",
    "- Word Embeddings (word2vec)\n",
    "\n",
    "---"
   ]
  },
  {
   "cell_type": "markdown",
   "metadata": {},
   "source": [
    "## Task 1 - Word2vec:"
   ]
  },
  {
   "cell_type": "markdown",
   "metadata": {},
   "source": [
    "### Part 1:\n",
    "Explain the difference between the continuous bag of words (CBOW) and Skip-Gram versions of word2vec."
   ]
  },
  {
   "cell_type": "markdown",
   "metadata": {},
   "source": [
    "<font color='ff000000'>\\# TEXT SUBMISSION ANSWER HERE (Double click to edit) </font>"
   ]
  },
  {
   "cell_type": "markdown",
   "metadata": {},
   "source": [
    "---\n",
    "### Part 2: \n",
    "Given the sentence \"You shall know a word by the company it keeps\" and a sliding window size of l=5 (two to the left, two to the right), generate a list of all positive training data (input and output) that\n",
    "\n",
    "a) CBOW creates for the word \"company\".\n",
    "\n",
    "b) Skip-Gram creates for the word \"word\"."
   ]
  },
  {
   "cell_type": "markdown",
   "metadata": {},
   "source": [
    "<font color='ff000000'>\\# TEXT SUBMISSION ANSWER HERE (Double click to edit) </font>"
   ]
  },
  {
   "cell_type": "markdown",
   "metadata": {},
   "source": [
    "---"
   ]
  },
  {
   "cell_type": "markdown",
   "metadata": {},
   "source": [
    "## Task 2 - Similarity (13P):\n",
    "\n",
    "### Part 1:\n",
    "Given The following 5-dimensional vector embeddings for three words, manually compute cosine similarities to determine whether a boat is more similar to an apple or to an orange.\n",
    "\n",
    "apple = [1,5,3,3,2]\n",
    "\n",
    "orange = [2,5,2,4,2]\n",
    "\n",
    "boat = [6,1,8,4,2]"
   ]
  },
  {
   "cell_type": "markdown",
   "metadata": {},
   "source": [
    "<font color='ff000000'>\\# TEXT SUBMISSION ANSWER HERE (Double click to edit) </font>"
   ]
  },
  {
   "cell_type": "markdown",
   "metadata": {},
   "source": [
    "---\n",
    "#### Part 2:\n",
    "\n",
    "Using a pre-trained word2vec model from gensim package, investigate the claim that embeddings encode semantic relations via compositional semantics, such als \"king - man + woman = queen\". For each of the following examples, use the model to generate the three input vectors, compute the target vector, and retrieve the 10 most similar words by cosine similarity. Discuss your findings.\n",
    "\n",
    "Examples:\n",
    "\n",
    "- king - man + woman\n",
    "- France - Paris + Tokyo\n",
    "- sister - brother + grandson\n",
    "- bigger - big + cold\n",
    "- scientist - Einstein + Picasso"
   ]
  },
  {
   "cell_type": "code",
   "execution_count": null,
   "metadata": {},
   "outputs": [],
   "source": [
    "# load pre-trained word2vec\n",
    "# you first need to download the bin file of the model, do not submit this file!!! since it will be larger than 1GB\n",
    "\n",
    "from gensim.models import KeyedVectors\n",
    "model = KeyedVectors.load_word2vec_format('GoogleNews-vectors-negative300.bin', binary=True)\n",
    "\n",
    "\n",
    "# TODO - ADD YOUR CODE HERE"
   ]
  },
  {
   "cell_type": "markdown",
   "metadata": {},
   "source": [
    "<font color='ff000000'>\\# TEXT SUBMISSION ANSWER HERE (Double click to edit) </font>"
   ]
  },
  {
   "cell_type": "markdown",
   "metadata": {},
   "source": [
    "---\n",
    "## Task 3 - Embedding Visualization:\n",
    "\n",
    "### Part 1:\n",
    "Your task is to visualize the embeddings:\n",
    "- assign the embedding vectors to the words\n",
    "- use a PCA (principal component analysis) -> from 300 dimensions to 3\n",
    "- plot the embeddings in 3 dimensions\n",
    "- discuss your results"
   ]
  },
  {
   "cell_type": "code",
   "execution_count": null,
   "metadata": {},
   "outputs": [],
   "source": [
    "words = ['king', 'man', 'woman', 'queen', 'father', 'mother', 'boy', 'girl']"
   ]
  },
  {
   "cell_type": "code",
   "execution_count": null,
   "metadata": {},
   "outputs": [],
   "source": [
    "# YOUR CODE"
   ]
  },
  {
   "cell_type": "code",
   "execution_count": null,
   "metadata": {},
   "outputs": [],
   "source": [
    "from sklearn.decomposition import PCA\n",
    "\n",
    "pca = PCA(n_components=3)\n",
    "components = pca.fit_transform(vectors)"
   ]
  },
  {
   "cell_type": "code",
   "execution_count": null,
   "metadata": {},
   "outputs": [],
   "source": [
    "# YOUR CODE"
   ]
  },
  {
   "cell_type": "markdown",
   "metadata": {},
   "source": [
    "<font color='ff000000'>\\# TEXT SUBMISSION ANSWER HERE (Double click to edit) </font>"
   ]
  },
  {
   "cell_type": "markdown",
   "metadata": {},
   "source": [
    "---\n",
    "\n",
    "### Part 2:\n",
    "Calculate the similarities of each sentence:\n",
    "- preprocess the data\n",
    "- calculate the average vector of each sentence\n",
    "- calculate the cosine-similarity between each sentence\n",
    "- plot the results in a heatmap\n",
    "- discuss your results"
   ]
  },
  {
   "cell_type": "code",
   "execution_count": null,
   "metadata": {},
   "outputs": [],
   "source": [
    "corpus = [\n",
    "    'Apples are crisp and juicy',\n",
    "    'Oranges burst with tangy flavor',\n",
    "    'Bananas provide a creamy sweetness',\n",
    "    'Berries offer a burst of antioxidants',\n",
    "    'Pineapples bring a tropical tang to the palate',\n",
    "    'Pets bring joy and companionship into our lives',\n",
    "    'Dogs are loyal companions known for their playful nature',\n",
    "    'Cats are independent creatures that provide comfort and warmth',\n",
    "    'Computer science explores the principles and applications of computing',\n",
    "    'Algorithms are the backbone of computer science, solving problems efficiently',\n",
    "    'Coding languages like Python and Java enable programmers to create software',\n",
    "    'Cybersecurity is a vital aspect of computer science, safeguarding digital assets',\n",
    "    'Natural Language Processing enables computers to comprehend and interact with human language'\n",
    "]"
   ]
  },
  {
   "cell_type": "code",
   "execution_count": null,
   "metadata": {},
   "outputs": [],
   "source": [
    "# YOUR CODE"
   ]
  },
  {
   "cell_type": "markdown",
   "metadata": {},
   "source": [
    "<font color='ff000000'>\\# TEXT SUBMISSION ANSWER HERE (Double click to edit) </font>"
   ]
  },
  {
   "cell_type": "markdown",
   "metadata": {},
   "source": [
    "#### Submitting your results:\n",
    "\n",
    "To submit your results, please:\n",
    "\n",
    "- save this file, i.e., `ex??_assignment.ipynb`.\n",
    "- if you reference any external files (e.g., images), please create a zip or rar archive and put the notebook files and all referenced files in there."
   ]
  },
  {
   "cell_type": "markdown",
   "metadata": {},
   "source": [
    "**Remarks:**\n",
    "    \n",
    "- Do not copy any code from the Internet. In case you want to use publicly available code, please, add the reference to the respective code snippet.\n",
    "- Check your code compiles and executes, even after you have restarted the Kernel.\n",
    "- Submit your written solutions and the coding exercises within the provided spaces and not otherwise.\n",
    "- Write the names of your partner and your name in the top section."
   ]
  }
 ],
 "metadata": {
  "language_info": {
   "name": "python"
  }
 },
 "nbformat": 4,
 "nbformat_minor": 2
}
