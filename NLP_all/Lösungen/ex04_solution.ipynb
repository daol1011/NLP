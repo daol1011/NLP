{
 "cells": [
  {
   "cell_type": "markdown",
   "id": "79a3caf2-5b7b-4c21-a4bd-82296a3f89e1",
   "metadata": {},
   "source": [
    "## Natural Language Processing - Summer Term 2024\n",
    "### Hochschule Karlsruhe\n",
    "### Lecturer: Prof. Dr. Jannik Strötgen\n",
    "### Tutor: Paul Löhr"
   ]
  },
  {
   "cell_type": "markdown",
   "id": "ef64b269-6b17-4409-b907-50010c0cc1f8",
   "metadata": {},
   "source": [
    "# Exercise 04 brought to you bei Nele, Domi & Tobi"
   ]
  },
  {
   "cell_type": "markdown",
   "id": "e87ea437-6493-4082-8e93-10e6a6dc42a3",
   "metadata": {},
   "source": [
    "- Leftmost Derivation\n",
    "- CKY Algorithm and Chomsky Normal Form\n",
    "- Shift-Reduce Parsing"
   ]
  },
  {
   "cell_type": "markdown",
   "id": "75102490-f8ec-4855-ad83-4a6162158df6",
   "metadata": {},
   "source": [
    "---"
   ]
  },
  {
   "cell_type": "markdown",
   "id": "83419e06-965f-4c2e-8af4-ab46b22082ad",
   "metadata": {
    "tags": []
   },
   "source": [
    "## Task 1 - Leftmost Derivation (pen and paper):"
   ]
  },
  {
   "cell_type": "markdown",
   "id": "dacc5eee-4940-4d59-b348-3c07894c3e43",
   "metadata": {},
   "source": [
    "## Data and Grammar\n",
    "\n",
    "Sentences:\n",
    "\n",
    " 1. The angry bear chased the frightened little squirrel.\n",
    " 2. The dog saw a man in the park.\n",
    "\n",
    "\n",
    "Grammar:\n",
    "\n",
    "- S -> NP VP\n",
    "- NP -> Det Nom | Det N | NP PP\n",
    "- Nom -> Adj Nom | Adj N\n",
    "- VP -> V Adj | V NP | V S\n",
    "- PP -> P NP\n",
    "- Det -> ‘the’ | ‘a’\n",
    "- N -> ‘bear’ | ‘squirrel’ | ‘dog’ | ‘park’ | ‘man’\n",
    "- Adj -> ‘angry’ | ‘frightened’ | ‘little’\n",
    "- V -> ‘saw’ | ‘chased’\n",
    "- P -> ‘in’"
   ]
  },
  {
   "cell_type": "markdown",
   "id": "b3eb47a8-fa85-49d5-b865-c20568cf9b84",
   "metadata": {},
   "source": [
    "Parse both sentences (1 and 2) with the Leftmost Derivation parser, using the grammar provided.\n",
    "\n",
    "1. Write down each step and explain what you are doing in this step."
   ]
  },
  {
   "cell_type": "markdown",
   "id": "00a747f2-f36a-4004-9e71-cc5f5b4ff6f0",
   "metadata": {},
   "source": [
    "\\# TEXT SUBMISSION ANSWER HERE \n",
    "\n",
    "### The angry bear chased the frightened little squirrel.\n",
    "\n",
    "1. S -> NP VP\n",
    "2. NP -> Det Nom\n",
    "3. Det -> 'The' <br>\n",
    "4. Nom -> Adj Nom <br>\n",
    "    5a. Adj -> 'angry' <br>\n",
    "    6a. Nom -> Adj Nom <br>\n",
    "    7a. Adj -> ERROR <br>\n",
    "4. Nom -> Adj N <br>\n",
    "5. Adj -> 'angry'\n",
    "6. N -> 'bear'\n",
    "7. VP -> V NP\n",
    "8. V -> 'chased'\n",
    "9. NP -> Det Nom\n",
    "10. Det -> 'the'\n",
    "11. Nom -> Adj Nom\n",
    "12. Adj -> 'frightened'\n",
    "13. Nom -> Adj N\n",
    "14. Adj -> 'little'\n",
    "15. N -> 'squirrel'\n",
    "\n",
    "```\n",
    "         S                                                | 1\n",
    "      ___|___\n",
    "      |       |\n",
    "     NP      VP                                           | 2\n",
    "  ___|___     |________________                           | 3 \n",
    "  |     |         |            |                             \n",
    " Det    Nom       |            |                          | 5\n",
    "  |    __|__      |            |                          | 6 \n",
    "  |    |    |     |            |                          | 7\n",
    "  |   Adj   N     |            |                          | 8 \n",
    "  |    |    |     |            |                          | 9\n",
    "  |    |    |     |            |\n",
    "  |    |    |     V            NP                         | 10   \n",
    "  |    |    |     |      ______|______                    | 11\n",
    "  |    |    |     |     |             |\n",
    "  |    |    |     |    Det           Nom                  | 12\n",
    "  |    |    |     |     |        _____|_____              | 13\n",
    "  |    |    |     |     |       |           |\n",
    "  |    |    |     |     |      Adj         Nom            | 14\n",
    "  |    |    |     |     |       |         __|___          | 15\n",
    "  |    |    |     |     |       |        |      |         | 16\n",
    "  |    |    |     |     |       |       Adj     N         \n",
    "  |    |    |     |     |       |        |      | \n",
    " The angry bear chased the frightened little squirrel\n",
    "```\n",
    "\n",
    "\n",
    "### The dog saw a man in the park.\n",
    "1. S -> NP VP\n",
    "2. NP -> Det N\n",
    "3. Det -> 'The'\n",
    "4. N -> 'dog'\n",
    "5. VP -> V NP\n",
    "6. V -> 'saw'\n",
    "7. NP -> NP PP\n",
    "8. NP -> Det N\n",
    "8. Det -> 'a'\n",
    "9. N -> 'man'\n",
    "10. PP -> P NP\n",
    "11. P -> 'in'\n",
    "12. NP -> Det N\n",
    "13. Det -> 'the'\n",
    "14. N -> 'park' "
   ]
  },
  {
   "cell_type": "code",
   "execution_count": 1,
   "id": "ac4ba268",
   "metadata": {},
   "outputs": [
    {
     "name": "stdout",
     "output_type": "stream",
     "text": [
      "Deriviation Tree 1: (S\n",
      "  (NP (Det The) (Nom (Adj angry) (N bear)))\n",
      "  (VP\n",
      "    (V chased)\n",
      "    (NP\n",
      "      (Det the)\n",
      "      (Nom (Adj frightened) (Nom (Adj little) (N squirrel))))))\n",
      "Deriviation Tree 2: (S\n",
      "  (NP (Det The) (N dog))\n",
      "  (VP\n",
      "    (V saw)\n",
      "    (NP (NP (Det a) (N man)) (PP (P in) (NP (Det the) (N park))))))\n"
     ]
    }
   ],
   "source": [
    "import nltk\n",
    "\n",
    "def build_tree(grammar, sentence):\n",
    "    parser = nltk.LeftCornerChartParser(grammar)\n",
    "    trees = parser.parse(sentence)\n",
    "    for tree in trees:\n",
    "        return tree\n",
    "\n",
    "# Define the grammar\n",
    "grammar = nltk.CFG.fromstring(\"\"\"\n",
    "    S -> NP VP\n",
    "    NP -> Det Nom | Det N | NP PP\n",
    "    Nom -> Adj Nom | Adj N\n",
    "    VP -> V Adj | V NP | V S\n",
    "    PP -> P NP\n",
    "    Det -> 'the' | 'a' | 'The' \n",
    "    N -> 'bear' | 'squirrel' | 'dog' | 'park' | 'man'\n",
    "    Adj -> 'angry' | 'frightened' | 'little'\n",
    "    V -> 'saw' | 'chased'\n",
    "    P -> 'in'\n",
    "\"\"\")\n",
    "# Adjustment in Det needed, because function is case sensitive\n",
    "\n",
    "# Define the sentence\n",
    "sentence1 = \"The angry bear chased the frightened little squirrel\".split()\n",
    "sentence2 = \"The dog saw a man in the park\".split()\n",
    "\n",
    "# Build the tree\n",
    "tree1 = build_tree(grammar, sentence1)\n",
    "tree2 = build_tree(grammar, sentence2)\n",
    "\n",
    "# Display the tree\n",
    "print(\"Deriviation Tree 1:\", tree1)\n",
    "print(\"Deriviation Tree 2:\", tree2)\n",
    "\n"
   ]
  },
  {
   "cell_type": "markdown",
   "id": "7a915f04-65c2-4b22-bb91-63230f961777",
   "metadata": {},
   "source": [
    "2. Discuss the pros and cons of this approach.\n",
    "\n",
    "- Pros: Easy to follow through\n",
    "- Cons: Backtracking"
   ]
  },
  {
   "cell_type": "markdown",
   "id": "5624e353-90c6-45ac-9a3c-1c6868b50877",
   "metadata": {},
   "source": [
    "---"
   ]
  },
  {
   "cell_type": "markdown",
   "id": "a4c674b6-b855-4188-b7d5-8f85ab2bacf0",
   "metadata": {},
   "source": [
    "## Task 2 - CKY Algorithm:"
   ]
  },
  {
   "cell_type": "markdown",
   "id": "450b3c85-077d-4d83-96f1-add9db8a2c44",
   "metadata": {
    "tags": []
   },
   "source": [
    "## Part 1: Theory\n",
    "\n",
    "### Why is bottom-up parsing inefficient? \n",
    "Bottom-up parsing is inefficient, because wrong combinations can be made which lead to incorrect parsing trees. (not everything that can be combinded, should be combined)\n",
    "\n",
    "If a parsing tree is correct can only be evaluated at the end. The Algorithm needs to start from the beginning if the parisng tree is wrong.\n",
    "### How does CKY algorithm overcome this issue?\n",
    "The CKY algortithm is overcoming this issue through the caching of intermediate results and backtracking."
   ]
  },
  {
   "cell_type": "markdown",
   "id": "f422a995-6384-4ae3-aa68-42d1926fac49",
   "metadata": {},
   "source": [
    "## Part 2: Chomsky Normal Form (pen and paper)\n",
    "\n",
    "**(1)** Why do we need to transform the grammar to Chomsky Normal Form \n",
    "before applying the CKY algorithm?\n",
    "\n",
    "CNF ensures that production rules have specific forms required by the CKY algorithm\n",
    "- Rules with three terminal symbols can't be applied, because in a table for CKY only two terminal symbols can be combined.\n",
    "- Rules that only refer to one terminal symbol are also problematic since they cant be combined to the left side of the rule.\n",
    "\n",
    "\n",
    "For Example:\n",
    "\n",
    "Mary led John with care\n",
    "\n",
    "```\n",
    "-------------------------------------------\n",
    "Mary| No? |  -   |  - | -      |    -     |\n",
    "    ---------------------------------------\n",
    "     led  | Verb |  - |  VP    |    -     |\n",
    "           --------------------------------\n",
    "            John | No |   -     |    -     |\n",
    "                 --------------------------\n",
    "                 with |  Prep  |    PP    |\n",
    "                        -------------------\n",
    "                         care  |    Adj   |\n",
    "                            ---------------\n"
   ]
  },
  {
   "cell_type": "markdown",
   "id": "0d6da90e-9097-434b-9204-1c33ad9d59c0",
   "metadata": {},
   "source": [
    "**(2)** Transform the given example to Chomsky Normal Form.\n",
    "\n",
    "- S -> NP VP\n",
    "- NP -> Noun\n",
    "- NP -> Noun PP\n",
    "- VP -> Verb NP\n",
    "- VP -> Verb NP PP\n",
    "- PP -> Prep Adj\n",
    "- Noun -> ‘John‘ | ‘Mary‘\n",
    "- Verb -> ‘led‘\n",
    "- Prep -> ‘with‘\n",
    "- Adj -> ‘care‘\n",
    "\n",
    "It already doesn't contain eplsilon-productions. \n",
    "First step is then to remove all unit productions (NP -> Noun).\n",
    "Second we reomve all rules with more than two non-terminals (binarization) (VP -> Verb NP PP)\n",
    "\n",
    "### Option A)\n",
    "\n",
    "- S -> NP VP\n",
    "- **NP** -> ‘John‘ | ‘Mary‘ | Noun PP\n",
    "- **VP** -> **VP0** PP | Verb NP\n",
    "- **VP0** -> Verb NP\n",
    "- Noun -> ‘John‘ | ‘Mary‘\n",
    "- PP -> Prep Adj\n",
    "- Verb -> ‘led‘\n",
    "- Prep -> ‘with‘\n",
    "- Adj -> ‘care‘\n",
    "\n",
    "### Option B)\n",
    "\n",
    "- S -> NP VP\n",
    "- **NP** -> 'John' | 'Mary' | Noun PP\n",
    "- VP -> Verb NP | Verb **VP1**\n",
    "- **VP1** -> NP PP\n",
    "- PP -> Prep Adj\n",
    "- Noun -> ‘John‘ | ‘Mary‘\n",
    "- Verb -> ‘led‘\n",
    "- Prep -> ‘with‘\n",
    "- Adj -> ‘care‘"
   ]
  },
  {
   "cell_type": "markdown",
   "id": "fb4ff1cc-67ab-468d-a1db-b5b4cb806db0",
   "metadata": {},
   "source": [
    "---"
   ]
  },
  {
   "cell_type": "markdown",
   "id": "5d529a67-c3e6-4ca1-92af-ae909f92fee7",
   "metadata": {},
   "source": [
    "## Task 3 - CYK algorithm (pen and paper):"
   ]
  },
  {
   "cell_type": "markdown",
   "id": "a7982272-3397-46f3-8ac7-c1331ef62edb",
   "metadata": {},
   "source": [
    "Parse the first sentence from Task 1, this time using the CYK algorithm:\n",
    "    \n",
    "    The angry bear chased the frightened little squirrel.\n",
    "    \n",
    "Again, use the initial grammar from Task 1 as a reference:\n",
    "\n",
    "Grammar:\n",
    "\n",
    "- S -> NP VP \n",
    "- NP -> Det Nom | Det N | NP PP\n",
    "- Nom -> Adj Nom | Adj N\n",
    "- VP -> V Adj | V NP | V S\n",
    "- PP -> P NP\n",
    "- Det -> ‘the’ | ‘a’\n",
    "- N -> ‘bear’ | ‘squirrel’ | ‘dog’ | ‘park’ | ‘man’\n",
    "- Adj -> ‘angry’ | ‘frightened’ | ‘little’\n",
    "- V -> ‘saw’ | ‘chased’\n",
    "- P -> ‘in’\n",
    "\n",
    "The grammar needs to be transfered to CNF as in Task 2. This is the case here since there are no epsilon-productions, no unit productions and no rules with more than two non-terminals \n"
   ]
  },
  {
   "cell_type": "markdown",
   "id": "9166cc52-2ca4-4aef-841c-9c026b84d3ad",
   "metadata": {},
   "source": [
    "#### Sentence 1\n",
    "\n",
    "The angry bear chased the frightened little squirrel\n",
    "\n",
    "```\n",
    "---------------------------------------------------------------------\n",
    "The |  Det |  -    |  NP  | -   |    -     |   -   |    -    |  S   |\n",
    "    -----------------------------------------------------------------\n",
    "     angry |  Adj  |  Nom |  -  |    -     |   -   |    -    |  -   |\n",
    "           ----------------------------------------------------------\n",
    "              bear |   N  |  -  |    -     |   -   |    -    |  -   |\n",
    "                 ----------------------------------------------------\n",
    "                   chased |  V  |    -     |   -   |    -    |  VP  |\n",
    "                        ---------------------------------------------\n",
    "                            the |   Det    |   -   |    -    |  NP  |\n",
    "                            -----------------------------------------\n",
    "                               frightened  |  Adj  |    -    |  Nom |\n",
    "                                         ----------------------------\n",
    "                                            little |   Adj   |  Nom |\n",
    "                                                  -------------------\n",
    "                                                    squirrel |   N  |\n",
    "                                                            ---------\n",
    "```"
   ]
  },
  {
   "cell_type": "markdown",
   "id": "78c26bc0-0627-4bb2-ae64-39634d97c028",
   "metadata": {},
   "source": [
    "---"
   ]
  },
  {
   "cell_type": "markdown",
   "id": "6b963660",
   "metadata": {},
   "source": [
    "## Task 4 - Shift-Recude Parser\n"
   ]
  },
  {
   "cell_type": "markdown",
   "id": "31484c61",
   "metadata": {},
   "source": [
    "### Part 1\n",
    "\n",
    "Describe how the Shift-Reduce Parser works."
   ]
  },
  {
   "cell_type": "markdown",
   "id": "48a4cc3f",
   "metadata": {},
   "source": [
    "Shift-Reduce Parsing is a type of bottom-up parsing technique. It operates by repeatedly shifting input symbols onto a stack and then reducing them according to a grammar's production rules.\n",
    "\n",
    "1. **Initialization**: Start with an empty stack and the input sentence to be parsed.\n",
    "2. **Shift Operation**: During the shift operation, the parser reads the next input symbol and pushes it onto the stack.\n",
    "3. **Reduce Operation**: During the reduce operation, the parser tries to match the symbols on the top of the stack with the right-hand side of a grammar production rule. If a match is found, the symbols are popped from the stack, and a new non-terminal symbol (corresponding to the left-hand side of the production rule) is pushed onto the stack.\n",
    "4. **Repeat**: Steps 2 and 3 are repeated until the entire input sentence has been shifted onto the stack and reduced to the start symbol of the grammar. At this point, if successful, the parse is complete.\n",
    "\n",
    "\n",
    "Example:\n",
    "\n",
    "1. Initial State: <br>\n",
    "Stack: [ ] <br>\n",
    "Input: [the, cat, chased] <br>\n",
    "\n",
    "2. Shift \"the\" onto the Stack: <br>\n",
    "Stack: [the] <br>\n",
    "Input: [cat, chased] <br>\n",
    "\n",
    "3. Shift \"cat\" onto the Stack: <br>\n",
    "Stack: [the, cat] <br>\n",
    "Input: [chased] <br>\n",
    "\n",
    "4. Reduce \"Det N\" to NP: <br>\n",
    "Apply production rule NP -> Det N <br>\n",
    "Stack: [NP] <br>\n",
    "Input: [chased] <br>\n",
    "\n",
    "5. Repeat until finished"
   ]
  },
  {
   "cell_type": "markdown",
   "id": "23a39503",
   "metadata": {},
   "source": [
    "### Part 2\n",
    "\n",
    "Implement a Shift-Reduce Parser using NLTK (Natural Language Toolkit) to parse the given English sentence."
   ]
  },
  {
   "cell_type": "code",
   "execution_count": 2,
   "id": "540fef74",
   "metadata": {},
   "outputs": [
    {
     "name": "stdout",
     "output_type": "stream",
     "text": [
      "Derivation Tree: (S\n",
      "  (NP (Det the) (Nom (Adj angry) (N bear)))\n",
      "  (VP\n",
      "    (V chased)\n",
      "    (NP\n",
      "      (Det the)\n",
      "      (Nom (Adj frightened) (Nom (Adj little) (N squirrel))))))\n"
     ]
    }
   ],
   "source": [
    "import nltk\n",
    "\n",
    "# Sentence to parse\n",
    "sentence = \"the angry bear chased the frightened little squirrel\".split()\n",
    "\n",
    "# Define the grammar\n",
    "grammar = nltk.CFG.fromstring(\"\"\"\n",
    "        S -> NP VP\n",
    "        NP -> Det Nom | Det N | NP PP\n",
    "        Nom -> Adj Nom | Adj N\n",
    "        VP -> V Adj | V NP | V S\n",
    "        PP -> P NP\n",
    "        Det -> 'the' | 'a'\n",
    "        N -> 'bear' | 'squirrel' \n",
    "        Adj -> 'angry' | 'frightened' | 'little'\n",
    "        V -> 'saw' | 'chased'\n",
    "    \"\"\")\n",
    "\n",
    "# Shift-Reduce Parsing with NLTK\n",
    "# Create a Shift-Reduce parser with the custom grammar\n",
    "def build_tree(grammar, sentence):\n",
    "    parser = nltk.ShiftReduceParser(grammar)\n",
    "    trees = parser.parse(sentence)\n",
    "    for tree in trees:\n",
    "        return tree\n",
    "\n",
    "# Parse the sentence and output the parse trees\n",
    "tree = build_tree(grammar, sentence)\n",
    "\n",
    "print(\"Derivation Tree:\", tree)\n",
    "\n",
    "\n"
   ]
  },
  {
   "cell_type": "markdown",
   "id": "48e482fa",
   "metadata": {},
   "source": [
    "---"
   ]
  },
  {
   "cell_type": "markdown",
   "id": "9653c77e-ca28-4ee5-8c5f-cca95cbc5ae0",
   "metadata": {},
   "source": [
    "#### Submitting your results:\n",
    "\n",
    "To submit your results, please:\n",
    "\n",
    "- save this file, i.e., `ex??_assignment.ipynb`.\n",
    "- if you reference any external files (e.g., images), please create a zip or rar archieve and put the notebook files and all referenced files in there."
   ]
  },
  {
   "cell_type": "markdown",
   "id": "1fd431e5-dc4b-4a35-8173-bb11b9cfccdc",
   "metadata": {},
   "source": [
    "**Remarks:**\n",
    "    \n",
    "- Do not copy any code from the Internet. In case you want to use publicly available code, please, add the reference to the respective code snippet.\n",
    "- Check your code compiles and executes, even after you have restarted the Kernel.\n",
    "- Submit your written solutions and the coding exercises within the provided spaces and not otherwise.\n",
    "- Write the names of your partner and your name in the top section."
   ]
  }
 ],
 "metadata": {
  "kernelspec": {
   "display_name": "Python 3 (ipykernel)",
   "language": "python",
   "name": "python3"
  },
  "language_info": {
   "codemirror_mode": {
    "name": "ipython",
    "version": 3
   },
   "file_extension": ".py",
   "mimetype": "text/x-python",
   "name": "python",
   "nbconvert_exporter": "python",
   "pygments_lexer": "ipython3",
   "version": "3.9.18"
  }
 },
 "nbformat": 4,
 "nbformat_minor": 5
}
